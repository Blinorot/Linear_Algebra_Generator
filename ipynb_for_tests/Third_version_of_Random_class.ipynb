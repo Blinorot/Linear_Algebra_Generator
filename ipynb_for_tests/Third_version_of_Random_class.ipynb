{
 "cells": [
  {
   "cell_type": "markdown",
   "metadata": {},
   "source": [
    "# Version 3"
   ]
  },
  {
   "cell_type": "code",
   "execution_count": 1,
   "metadata": {},
   "outputs": [],
   "source": [
    "import numpy as np\n",
    "import sympy as sp\n",
    "from inspect import signature \n",
    "from functools import partial"
   ]
  },
  {
   "cell_type": "code",
   "execution_count": 2,
   "metadata": {},
   "outputs": [],
   "source": [
    "class NumGen(object):\n",
    "    def __init__(self, maxtime, seed, min_value, max_value, predicate=lambda x: True):\n",
    "        assert min_value <= max_value, 'Bad boundaries'\n",
    "        assert callable(predicate), 'Predicate is not a function'\n",
    "        assert len(signature(predicate).parameters) == 1, 'Predicate has too many arguments'\n",
    "        assert isinstance(predicate(0), bool), 'Predicate does not return bool'\n",
    "        self.rand = np.random.default_rng(seed)\n",
    "        self.max_value = max_value\n",
    "        self.min_value = min_value\n",
    "        self.predicate = predicate\n",
    "        self.maxtime = maxtime\n",
    "        \n",
    "    def __call__(self):\n",
    "        result = self.rand.integers(low=self.min_value, high=self.max_value + 1)\n",
    "        count = 0\n",
    "        while (self.predicate(result) == False):\n",
    "            result = self.rand.integers(low=self.min_value, high=self.max_value + 1)\n",
    "            count += 1\n",
    "            assert count < self.maxtime, 'Time exceeded. Please change predicate or reset seed'\n",
    "        return result\n",
    "    \n",
    "    def change_predicate(self, new_predicate):\n",
    "        assert callable(new_predicate), 'Predicate is not a function'\n",
    "        assert len(signature(new_predicate).parameters) == 1, 'Predicate has too many arguments'\n",
    "        assert isinstance(new_predicate(0), bool), 'Predicate does not return bool'\n",
    "        self.predicate = new_predicate"
   ]
  },
  {
   "cell_type": "code",
   "execution_count": 3,
   "metadata": {},
   "outputs": [],
   "source": [
    "class RanGen(object):\n",
    "    __seed = 0\n",
    "    __maxtime = 10**4\n",
    "    \n",
    "    @classmethod\n",
    "    def reset_seed(cls, new_seed):\n",
    "        cls.__seed = new_seed\n",
    "        \n",
    "    @classmethod\n",
    "    def reset_maxtime(cls, new_time):\n",
    "        cls.__maxtime = new_time\n",
    "\n",
    "    def __init__(self, gen_class, **args):\n",
    "        self.cls = gen_class\n",
    "        self.args = args\n",
    "        self.ran_gen = gen_class(RanGen.__maxtime, RanGen.__seed, **args)\n",
    "        \n",
    "    def __call__(self):\n",
    "        return self.ran_gen()\n",
    "    \n",
    "    def PredicateFilter(self, predicate):\n",
    "        assert hasattr(self.cls, 'change_predicate'), 'Class does not allow filters'\n",
    "        self.ran_gen.change_predicate(predicate)\n",
    "    \n",
    "    def Extend(self, values, length):\n",
    "        assert length >= 0, 'Bad length'\n",
    "        assert len(values) <= length, 'Too small length'\n",
    "        set_values = set(values)\n",
    "        count = 0\n",
    "        while len(values) != length:\n",
    "            value = self()\n",
    "            count += 1\n",
    "            if not value in set_values:\n",
    "                values.append(value)\n",
    "                set_values.add(value)\n",
    "            assert count < self.__maxtime, 'Time exceeded. Please change predicate, bounds or reset seed'\n",
    "        return values\n",
    "    \n",
    "    def Sequence(self, length):\n",
    "        return self.Extend([], length)\n",
    "    \n",
    "     \n",
    "    def Bool(self):\n",
    "        return 1 if self() else 0\n",
    "\n",
    "    def Sign(self):\n",
    "        return -1 if self() else 1"
   ]
  },
  {
   "cell_type": "code",
   "execution_count": 4,
   "metadata": {},
   "outputs": [],
   "source": [
    "def Random(min_value, max_value, predicate=lambda x: True):\n",
    "    return RanGen(NumGen, min_value=min_value, max_value=max_value, predicate=predicate)"
   ]
  },
  {
   "cell_type": "markdown",
   "metadata": {},
   "source": [
    "Include some generator to test"
   ]
  },
  {
   "cell_type": "code",
   "execution_count": 5,
   "metadata": {},
   "outputs": [],
   "source": [
    "def gen_FirstElementaryM(size, value, row, column):\n",
    "    result = sp.eye(size)\n",
    "    result[row, column] = value\n",
    "    return result"
   ]
  },
  {
   "cell_type": "code",
   "execution_count": 6,
   "metadata": {},
   "outputs": [],
   "source": [
    "class MatrixForm(object):\n",
    "    __default_Random = Random(0, 1)\n",
    "\n",
    "    @classmethod\n",
    "    def reset_default_random(cls, min_value, max_value):\n",
    "        cls.__default_Random = Random(min_value, max_value)\n",
    "    \n",
    "    def __init__(self, **flags):\n",
    "        self.form = flags[\"form\"]\n",
    "        if flags.get(\"allow_zeros\", False) is False:\n",
    "            self.rand = flags.get(\"random\", MatrixForm.__default_Random)\n",
    "            self.rand.PredicateFilter(lambda x: x != 0)\n",
    "        else:\n",
    "            self.rand = flags.get(\"random\", MatrixForm.__default_Random)\n",
    "    \n",
    "        # make generator with right form\n",
    "        if (self.form == \"FirstElementary\"):\n",
    "            assert \"size\" in flags, 'Size was not given'\n",
    "            size = flags[\"size\"]\n",
    "            index_random = Random(0, size - 1)\n",
    "            self.gen = partial(self.FirstElementaryForm, index_random, size, flags)\n",
    "            \n",
    "    def __call__(self):\n",
    "        return self.gen()\n",
    "     \n",
    "    # Functions to make form\n",
    "    def FirstElementaryForm(self, index_random, size, flags):\n",
    "        row = flags.get(\"row\", -1)\n",
    "        column = flags.get(\"column\", -1)\n",
    "        if (row == -1):\n",
    "            if (column == -1):\n",
    "                row, column = index_random.Extend([], 2)\n",
    "            else:\n",
    "                column, row = index_random.Extend([column], 2)\n",
    "        if (column == -1):\n",
    "            if (row == -1):\n",
    "                row, column = index_random.Extend([], 2)\n",
    "            else:\n",
    "                row, column = index_random.Extend([row], 2)\n",
    "        \n",
    "        assert row != column, 'Bad indecies'\n",
    "        value = flags[\"value\"] if \"value\" in flags else self.rand()\n",
    "        return gen_FirstElementaryM(size, value, row, column)\n",
    "    \n",
    "    # Help functions"
   ]
  },
  {
   "cell_type": "markdown",
   "metadata": {},
   "source": [
    "# Tests"
   ]
  },
  {
   "cell_type": "code",
   "execution_count": 7,
   "metadata": {},
   "outputs": [],
   "source": [
    "RanGen.reset_seed(2)"
   ]
  },
  {
   "cell_type": "code",
   "execution_count": 8,
   "metadata": {},
   "outputs": [
    {
     "name": "stdout",
     "output_type": "stream",
     "text": [
      "2\n"
     ]
    }
   ],
   "source": [
    "print(RanGen._RanGen__seed)"
   ]
  },
  {
   "cell_type": "code",
   "execution_count": 9,
   "metadata": {},
   "outputs": [],
   "source": [
    "R = Random(-5, 5)"
   ]
  },
  {
   "cell_type": "code",
   "execution_count": 10,
   "metadata": {},
   "outputs": [],
   "source": [
    "M = MatrixForm(form=\"FirstElementary\", size=3, random = R, allow_zeros=False)"
   ]
  },
  {
   "cell_type": "code",
   "execution_count": 11,
   "metadata": {},
   "outputs": [
    {
     "data": {
      "text/latex": [
       "$\\displaystyle \\left[\\begin{matrix}1 & 0 & 0\\\\0 & 1 & 0\\\\4 & 0 & 1\\end{matrix}\\right]$"
      ],
      "text/plain": [
       "Matrix([\n",
       "[1, 0, 0],\n",
       "[0, 1, 0],\n",
       "[4, 0, 1]])"
      ]
     },
     "execution_count": 11,
     "metadata": {},
     "output_type": "execute_result"
    }
   ],
   "source": [
    "M()"
   ]
  },
  {
   "cell_type": "code",
   "execution_count": 12,
   "metadata": {},
   "outputs": [
    {
     "data": {
      "text/latex": [
       "$\\displaystyle \\left[\\begin{matrix}1 & -3 & 0\\\\0 & 1 & 0\\\\0 & 0 & 1\\end{matrix}\\right]$"
      ],
      "text/plain": [
       "Matrix([\n",
       "[1, -3, 0],\n",
       "[0,  1, 0],\n",
       "[0,  0, 1]])"
      ]
     },
     "execution_count": 12,
     "metadata": {},
     "output_type": "execute_result"
    }
   ],
   "source": [
    "M()"
   ]
  },
  {
   "cell_type": "code",
   "execution_count": 13,
   "metadata": {},
   "outputs": [],
   "source": [
    "R = Random(-1, 1)"
   ]
  },
  {
   "cell_type": "code",
   "execution_count": 14,
   "metadata": {},
   "outputs": [],
   "source": [
    "M = MatrixForm(form=\"FirstElementary\", size=3, random=R, allow_zeros=True)"
   ]
  },
  {
   "cell_type": "code",
   "execution_count": 15,
   "metadata": {},
   "outputs": [
    {
     "data": {
      "text/latex": [
       "$\\displaystyle \\left[\\begin{matrix}1 & 0 & 0\\\\0 & 1 & 0\\\\1 & 0 & 1\\end{matrix}\\right]$"
      ],
      "text/plain": [
       "Matrix([\n",
       "[1, 0, 0],\n",
       "[0, 1, 0],\n",
       "[1, 0, 1]])"
      ]
     },
     "execution_count": 15,
     "metadata": {},
     "output_type": "execute_result"
    }
   ],
   "source": [
    "M()"
   ]
  },
  {
   "cell_type": "code",
   "execution_count": 16,
   "metadata": {},
   "outputs": [],
   "source": [
    "M = MatrixForm(form=\"FirstElementary\", size=3, random=R, allow_zeros=False)"
   ]
  },
  {
   "cell_type": "code",
   "execution_count": 17,
   "metadata": {},
   "outputs": [
    {
     "data": {
      "text/latex": [
       "$\\displaystyle \\left[\\begin{matrix}1 & 0 & 0\\\\0 & 1 & 0\\\\-1 & 0 & 1\\end{matrix}\\right]$"
      ],
      "text/plain": [
       "Matrix([\n",
       "[ 1, 0, 0],\n",
       "[ 0, 1, 0],\n",
       "[-1, 0, 1]])"
      ]
     },
     "execution_count": 17,
     "metadata": {},
     "output_type": "execute_result"
    }
   ],
   "source": [
    "M()"
   ]
  },
  {
   "cell_type": "code",
   "execution_count": 18,
   "metadata": {},
   "outputs": [],
   "source": [
    "R = Random(-5, 5)"
   ]
  },
  {
   "cell_type": "markdown",
   "metadata": {},
   "source": [
    "Now we can reduce the amount of random values"
   ]
  },
  {
   "cell_type": "markdown",
   "metadata": {},
   "source": [
    "For example, we can decide which row we want"
   ]
  },
  {
   "cell_type": "code",
   "execution_count": 19,
   "metadata": {},
   "outputs": [],
   "source": [
    "M = MatrixForm(form=\"FirstElementary\", size=3, random=R, allow_zeros=True, row=1)"
   ]
  },
  {
   "cell_type": "code",
   "execution_count": 20,
   "metadata": {},
   "outputs": [
    {
     "data": {
      "text/latex": [
       "$\\displaystyle \\left[\\begin{matrix}1 & 0 & 0\\\\0 & 1 & 4\\\\0 & 0 & 1\\end{matrix}\\right]$"
      ],
      "text/plain": [
       "Matrix([\n",
       "[1, 0, 0],\n",
       "[0, 1, 4],\n",
       "[0, 0, 1]])"
      ]
     },
     "execution_count": 20,
     "metadata": {},
     "output_type": "execute_result"
    }
   ],
   "source": [
    "M()"
   ]
  },
  {
   "cell_type": "markdown",
   "metadata": {},
   "source": [
    "Or we can decide which column and value, but make random row"
   ]
  },
  {
   "cell_type": "code",
   "execution_count": 21,
   "metadata": {},
   "outputs": [],
   "source": [
    "M = MatrixForm(form=\"FirstElementary\", size=3, random=R, allow_zeros=True, column=2, value=6)"
   ]
  },
  {
   "cell_type": "code",
   "execution_count": 22,
   "metadata": {},
   "outputs": [
    {
     "data": {
      "text/latex": [
       "$\\displaystyle \\left[\\begin{matrix}1 & 0 & 6\\\\0 & 1 & 0\\\\0 & 0 & 1\\end{matrix}\\right]$"
      ],
      "text/plain": [
       "Matrix([\n",
       "[1, 0, 6],\n",
       "[0, 1, 0],\n",
       "[0, 0, 1]])"
      ]
     },
     "execution_count": 22,
     "metadata": {},
     "output_type": "execute_result"
    }
   ],
   "source": [
    "M()"
   ]
  },
  {
   "cell_type": "code",
   "execution_count": 23,
   "metadata": {},
   "outputs": [
    {
     "data": {
      "text/latex": [
       "$\\displaystyle \\left[\\begin{matrix}1 & 0 & 6\\\\0 & 1 & 0\\\\0 & 0 & 1\\end{matrix}\\right]$"
      ],
      "text/plain": [
       "Matrix([\n",
       "[1, 0, 6],\n",
       "[0, 1, 0],\n",
       "[0, 0, 1]])"
      ]
     },
     "execution_count": 23,
     "metadata": {},
     "output_type": "execute_result"
    }
   ],
   "source": [
    "M()"
   ]
  },
  {
   "cell_type": "markdown",
   "metadata": {},
   "source": [
    "As we can see, we do not need to allow zeros, because value is written "
   ]
  },
  {
   "cell_type": "markdown",
   "metadata": {},
   "source": [
    "Or we can write everything by hand (so we even do not need to write random=R)"
   ]
  },
  {
   "cell_type": "markdown",
   "metadata": {},
   "source": [
    "Here we need working default Random, or we will have an error"
   ]
  },
  {
   "cell_type": "code",
   "execution_count": 24,
   "metadata": {},
   "outputs": [],
   "source": [
    "M = MatrixForm(form=\"FirstElementary\", size=3,  row=1, column=2, value=10)"
   ]
  },
  {
   "cell_type": "code",
   "execution_count": 25,
   "metadata": {},
   "outputs": [
    {
     "data": {
      "text/latex": [
       "$\\displaystyle \\left[\\begin{matrix}1 & 0 & 0\\\\0 & 1 & 10\\\\0 & 0 & 1\\end{matrix}\\right]$"
      ],
      "text/plain": [
       "Matrix([\n",
       "[1, 0,  0],\n",
       "[0, 1, 10],\n",
       "[0, 0,  1]])"
      ]
     },
     "execution_count": 25,
     "metadata": {},
     "output_type": "execute_result"
    }
   ],
   "source": [
    "M()"
   ]
  },
  {
   "cell_type": "markdown",
   "metadata": {},
   "source": [
    "FIXED: We do not allow zeros by default, but default random always return zero which cause problems with getting value"
   ]
  },
  {
   "cell_type": "markdown",
   "metadata": {},
   "source": [
    "NEW Random has different def of max_value"
   ]
  },
  {
   "cell_type": "code",
   "execution_count": 26,
   "metadata": {},
   "outputs": [],
   "source": [
    "MatrixForm.reset_default_random(0, 2)"
   ]
  },
  {
   "cell_type": "code",
   "execution_count": 27,
   "metadata": {},
   "outputs": [],
   "source": [
    "M = MatrixForm(form=\"FirstElementary\", size=3,  row=1, column=2, value=10)"
   ]
  },
  {
   "cell_type": "code",
   "execution_count": 28,
   "metadata": {},
   "outputs": [
    {
     "data": {
      "text/latex": [
       "$\\displaystyle \\left[\\begin{matrix}1 & 0 & 0\\\\0 & 1 & 10\\\\0 & 0 & 1\\end{matrix}\\right]$"
      ],
      "text/plain": [
       "Matrix([\n",
       "[1, 0,  0],\n",
       "[0, 1, 10],\n",
       "[0, 0,  1]])"
      ]
     },
     "execution_count": 28,
     "metadata": {},
     "output_type": "execute_result"
    }
   ],
   "source": [
    "M()"
   ]
  },
  {
   "cell_type": "code",
   "execution_count": null,
   "metadata": {},
   "outputs": [],
   "source": []
  },
  {
   "cell_type": "code",
   "execution_count": null,
   "metadata": {},
   "outputs": [],
   "source": []
  }
 ],
 "metadata": {
  "kernelspec": {
   "display_name": "Python 3",
   "language": "python",
   "name": "python3"
  },
  "language_info": {
   "codemirror_mode": {
    "name": "ipython",
    "version": 3
   },
   "file_extension": ".py",
   "mimetype": "text/x-python",
   "name": "python",
   "nbconvert_exporter": "python",
   "pygments_lexer": "ipython3",
   "version": "3.8.5"
  }
 },
 "nbformat": 4,
 "nbformat_minor": 4
}
