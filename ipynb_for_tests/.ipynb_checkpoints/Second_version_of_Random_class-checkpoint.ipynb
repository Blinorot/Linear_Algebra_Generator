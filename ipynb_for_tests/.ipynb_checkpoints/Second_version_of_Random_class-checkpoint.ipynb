{
 "cells": [
  {
   "cell_type": "markdown",
   "metadata": {},
   "source": [
    "# Version 2"
   ]
  },
  {
   "cell_type": "code",
   "execution_count": 254,
   "metadata": {},
   "outputs": [],
   "source": [
    "import numpy as np\n",
    "import sympy as sp\n",
    "from inspect import signature \n",
    "from functools import partial"
   ]
  },
  {
   "cell_type": "code",
   "execution_count": 274,
   "metadata": {},
   "outputs": [],
   "source": [
    "class Random(object):\n",
    "    __seed = 0\n",
    "    \n",
    "    @classmethod\n",
    "    def reset_seed(cls, new_seed):\n",
    "        cls.__seed = new_seed\n",
    "\n",
    "    def __init__(self, min_value, max_value):\n",
    "        assert min_value < max_value, 'Bad boundaries'\n",
    "        self.rand = np.random.default_rng(Random.__seed)\n",
    "        self.max_value = max_value\n",
    "        self.min_value = min_value\n",
    "   \n",
    "    def __call__(self):\n",
    "        result = self.rand.integers(low=self.min_value, high=self.max_value)\n",
    "  \n",
    "        return result\n",
    " \n",
    "    def Bool(self):\n",
    "        return self.rand.integers(2)\n",
    "\n",
    "    def Sign(self):\n",
    "        return -1 if self.rand.integers(2) == 0 else 1\n",
    "    \n",
    "    def Extend(self, values, length):\n",
    "        assert length >= 0, 'Bad length'\n",
    "        assert len(values) <= length, 'Too small length'\n",
    "        set_values = set(values)\n",
    "        while len(values) != length:\n",
    "            value = self()\n",
    "            if not value in set_values:\n",
    "                values.append(value)\n",
    "                set_values.add(value)\n",
    "        return values\n",
    "    \n",
    "    def Sequence(self, length):\n",
    "        return self.Extend([], length)\n",
    "\n",
    "    def Matrix(self, row, column):\n",
    "        result = sp.Matrix(row, column, lambda i, j: self())\n",
    "        return result\n",
    "    \n",
    "    def Filter(self, predicate):\n",
    "        assert callable(predicate), 'Predicate is not a function'\n",
    "        assert len(signature(predicate).parameters) == 1, 'Predicate has too many arguments'\n",
    "        assert isinstance(predicate(0), bool), 'Predicate does not return bool'\n",
    "        \n",
    "        class FilteredRandom(object):\n",
    "            def __init__(self, random, predicate):\n",
    "                self.predicate = predicate\n",
    "                self.rand = random\n",
    "                \n",
    "            def __call__(self):\n",
    "                result = self.rand()\n",
    "                count = 0\n",
    "                while (predicate(result) == False):\n",
    "                    result = self.rand()\n",
    "                    count += 1\n",
    "                    assert count < 10**4, 'Time exceeded. Please change predicate or reset seed'\n",
    "                return result\n",
    "            \n",
    "            def Bool(self):\n",
    "                return self.rand.integers(2)\n",
    "\n",
    "            def Sign(self):\n",
    "                return -1 if self.rand.integers(2) == 0 else 1\n",
    "            \n",
    "            def Extend(self, values, length):\n",
    "                assert length >= 0, 'Bad length'\n",
    "                assert len(values) <= length, 'Too small length'\n",
    "                set_values = set(values)\n",
    "                while len(values) != length:\n",
    "                    value = self()\n",
    "                    if not value in set_values:\n",
    "                        values.append(value)\n",
    "                        set_values.add(value)\n",
    "                return values\n",
    "            \n",
    "            def Sequence(self, length):\n",
    "                return self.Extend([], length)\n",
    "        \n",
    "            def Matrix(self, row, column):\n",
    "                result = sp.Matrix(row, column, lambda i, j: self())\n",
    "                return result\n",
    "                    \n",
    "                        \n",
    "        return FilteredRandom(self, predicate)\n"
   ]
  },
  {
   "cell_type": "markdown",
   "metadata": {},
   "source": [
    "Include some generator to test"
   ]
  },
  {
   "cell_type": "code",
   "execution_count": 275,
   "metadata": {},
   "outputs": [],
   "source": [
    "def gen_FirstElementaryM(size, value, row, column):\n",
    "    result = sp.eye(size)\n",
    "    result[row, column] = value\n",
    "    return result"
   ]
  },
  {
   "cell_type": "code",
   "execution_count": 286,
   "metadata": {},
   "outputs": [],
   "source": [
    "class MatrixForm(object):\n",
    "    __default_Random = Random(0, 1)\n",
    "    __min_value = 0\n",
    "    __max_value = 1\n",
    "    \n",
    "    @classmethod\n",
    "    def reset_default_random(cls, min_value, max_value):\n",
    "        cls.__min_value = min_value\n",
    "        cls.__max_value = max_value\n",
    "        cls.__default_Random = Random(min_value, max_value)\n",
    "    \n",
    "    def __init__(self, **flags):\n",
    "        self.form = flags[\"form\"]\n",
    "        if flags.get(\"allow_zeros\", False) == False:\n",
    "            self.rand = flags.get(\"random\", MatrixForm.__default_Random.Filter(lambda x: x != 0))\n",
    "        else:\n",
    "            self.rand = flags.get(\"random\", MatrixForm.__default_Random)\n",
    "    \n",
    "        # make generator with right form\n",
    "        if (self.form == \"FirstElementary\"):\n",
    "            size = flags.get(\"size\", 2)\n",
    "            index_random = Random(0, size)\n",
    "            self.gen = partial(self.FirstElementaryForm, index_random, size, flags)\n",
    "            \n",
    "    def __call__(self):\n",
    "        return self.gen()\n",
    "    \n",
    "    def FirstElementaryForm(self, index_random, size, flags):\n",
    "        row = flags.get(\"row\", -1)\n",
    "        column = flags.get(\"column\", -1)\n",
    "        if (row == -1):\n",
    "            if (column == -1):\n",
    "                row, column = index_random.Extend([], 2)\n",
    "            else:\n",
    "                column, row = index_random.Extend([column], 2)\n",
    "        if (column == -1):\n",
    "            if (row == -1):\n",
    "                row, column = index_random.Extend([], 2)\n",
    "            else:\n",
    "                row, column = index_random.Extend([row], 2)\n",
    "        \n",
    "        assert row != column, 'Bad indecies'\n",
    "        value=flags.get(\"value\", self.rand())\n",
    "        return gen_FirstElementaryM(size, value, row, column)"
   ]
  },
  {
   "cell_type": "markdown",
   "metadata": {},
   "source": [
    "# Tests"
   ]
  },
  {
   "cell_type": "code",
   "execution_count": 231,
   "metadata": {},
   "outputs": [],
   "source": [
    "Random.reset_seed(2)"
   ]
  },
  {
   "cell_type": "code",
   "execution_count": 232,
   "metadata": {},
   "outputs": [
    {
     "name": "stdout",
     "output_type": "stream",
     "text": [
      "2\n"
     ]
    }
   ],
   "source": [
    "print(Random._Random__seed)"
   ]
  },
  {
   "cell_type": "code",
   "execution_count": null,
   "metadata": {},
   "outputs": [],
   "source": [
    "R = Random(-5, 5)"
   ]
  },
  {
   "cell_type": "code",
   "execution_count": 210,
   "metadata": {},
   "outputs": [],
   "source": [
    "M = MatrixForm(form=\"FirstElementary\", size=3, random = R, allow_zeros=False)"
   ]
  },
  {
   "cell_type": "code",
   "execution_count": 211,
   "metadata": {},
   "outputs": [
    {
     "data": {
      "text/latex": [
       "$\\displaystyle \\left[\\begin{matrix}1 & 0 & 0\\\\0 & 1 & 0\\\\3 & 0 & 1\\end{matrix}\\right]$"
      ],
      "text/plain": [
       "Matrix([\n",
       "[1, 0, 0],\n",
       "[0, 1, 0],\n",
       "[3, 0, 1]])"
      ]
     },
     "execution_count": 211,
     "metadata": {},
     "output_type": "execute_result"
    }
   ],
   "source": [
    "M()"
   ]
  },
  {
   "cell_type": "code",
   "execution_count": 212,
   "metadata": {},
   "outputs": [
    {
     "data": {
      "text/latex": [
       "$\\displaystyle \\left[\\begin{matrix}1 & -3 & 0\\\\0 & 1 & 0\\\\0 & 0 & 1\\end{matrix}\\right]$"
      ],
      "text/plain": [
       "Matrix([\n",
       "[1, -3, 0],\n",
       "[0,  1, 0],\n",
       "[0,  0, 1]])"
      ]
     },
     "execution_count": 212,
     "metadata": {},
     "output_type": "execute_result"
    }
   ],
   "source": [
    "M()"
   ]
  },
  {
   "cell_type": "code",
   "execution_count": 221,
   "metadata": {},
   "outputs": [],
   "source": [
    "R = Random(-1, 1)"
   ]
  },
  {
   "cell_type": "code",
   "execution_count": 222,
   "metadata": {},
   "outputs": [],
   "source": [
    "M = MatrixForm(form=\"FirstElementary\", size=3, random=R, allow_zeros=True)"
   ]
  },
  {
   "cell_type": "code",
   "execution_count": 223,
   "metadata": {},
   "outputs": [
    {
     "data": {
      "text/latex": [
       "$\\displaystyle \\left[\\begin{matrix}1 & 0 & 0\\\\0 & 1 & 0\\\\0 & 0 & 1\\end{matrix}\\right]$"
      ],
      "text/plain": [
       "Matrix([\n",
       "[1, 0, 0],\n",
       "[0, 1, 0],\n",
       "[0, 0, 1]])"
      ]
     },
     "execution_count": 223,
     "metadata": {},
     "output_type": "execute_result"
    }
   ],
   "source": [
    "M()"
   ]
  },
  {
   "cell_type": "code",
   "execution_count": 224,
   "metadata": {},
   "outputs": [],
   "source": [
    "M = MatrixForm(form=\"FirstElementary\", size=3, random=R, allow_zeros=False)"
   ]
  },
  {
   "cell_type": "code",
   "execution_count": 225,
   "metadata": {},
   "outputs": [
    {
     "data": {
      "text/latex": [
       "$\\displaystyle \\left[\\begin{matrix}1 & 0 & 0\\\\0 & 1 & 0\\\\-1 & 0 & 1\\end{matrix}\\right]$"
      ],
      "text/plain": [
       "Matrix([\n",
       "[ 1, 0, 0],\n",
       "[ 0, 1, 0],\n",
       "[-1, 0, 1]])"
      ]
     },
     "execution_count": 225,
     "metadata": {},
     "output_type": "execute_result"
    }
   ],
   "source": [
    "M()"
   ]
  },
  {
   "cell_type": "code",
   "execution_count": 233,
   "metadata": {},
   "outputs": [],
   "source": [
    "R = Random(-5, 5)"
   ]
  },
  {
   "cell_type": "markdown",
   "metadata": {},
   "source": [
    "Now we can reduce the amount of random values"
   ]
  },
  {
   "cell_type": "markdown",
   "metadata": {},
   "source": [
    "For example, we can decide which row we want"
   ]
  },
  {
   "cell_type": "code",
   "execution_count": 234,
   "metadata": {},
   "outputs": [],
   "source": [
    "M = MatrixForm(form=\"FirstElementary\", size=3, random=R, allow_zeros=True, row=1)"
   ]
  },
  {
   "cell_type": "code",
   "execution_count": 241,
   "metadata": {},
   "outputs": [
    {
     "data": {
      "text/latex": [
       "$\\displaystyle \\left[\\begin{matrix}1 & 0 & 0\\\\0 & 1 & -1\\\\0 & 0 & 1\\end{matrix}\\right]$"
      ],
      "text/plain": [
       "Matrix([\n",
       "[1, 0,  0],\n",
       "[0, 1, -1],\n",
       "[0, 0,  1]])"
      ]
     },
     "execution_count": 241,
     "metadata": {},
     "output_type": "execute_result"
    }
   ],
   "source": [
    "M()"
   ]
  },
  {
   "cell_type": "markdown",
   "metadata": {},
   "source": [
    "Or we can decide which column and value, but make random row"
   ]
  },
  {
   "cell_type": "code",
   "execution_count": 260,
   "metadata": {},
   "outputs": [],
   "source": [
    "M = MatrixForm(form=\"FirstElementary\", size=3, random=R, allow_zeros=True, column=2, value=6)"
   ]
  },
  {
   "cell_type": "code",
   "execution_count": 261,
   "metadata": {},
   "outputs": [
    {
     "data": {
      "text/latex": [
       "$\\displaystyle \\left[\\begin{matrix}1 & 0 & 0\\\\0 & 1 & 6\\\\0 & 0 & 1\\end{matrix}\\right]$"
      ],
      "text/plain": [
       "Matrix([\n",
       "[1, 0, 0],\n",
       "[0, 1, 6],\n",
       "[0, 0, 1]])"
      ]
     },
     "execution_count": 261,
     "metadata": {},
     "output_type": "execute_result"
    }
   ],
   "source": [
    "M()"
   ]
  },
  {
   "cell_type": "code",
   "execution_count": 263,
   "metadata": {},
   "outputs": [
    {
     "data": {
      "text/latex": [
       "$\\displaystyle \\left[\\begin{matrix}1 & 0 & 6\\\\0 & 1 & 0\\\\0 & 0 & 1\\end{matrix}\\right]$"
      ],
      "text/plain": [
       "Matrix([\n",
       "[1, 0, 6],\n",
       "[0, 1, 0],\n",
       "[0, 0, 1]])"
      ]
     },
     "execution_count": 263,
     "metadata": {},
     "output_type": "execute_result"
    }
   ],
   "source": [
    "M()"
   ]
  },
  {
   "cell_type": "markdown",
   "metadata": {},
   "source": [
    "As we can see, we do not need to allow zeros, because value is written "
   ]
  },
  {
   "cell_type": "markdown",
   "metadata": {},
   "source": [
    "Or we can write everything by hand (so we even do not need to write random=R)"
   ]
  },
  {
   "cell_type": "markdown",
   "metadata": {},
   "source": [
    "Here we need working default Random, or we will have an error"
   ]
  },
  {
   "cell_type": "code",
   "execution_count": 283,
   "metadata": {},
   "outputs": [],
   "source": [
    "M = MatrixForm(form=\"FirstElementary\", size=3,  row=1, column=2, value=10)"
   ]
  },
  {
   "cell_type": "code",
   "execution_count": 284,
   "metadata": {},
   "outputs": [
    {
     "ename": "AssertionError",
     "evalue": "Time exceeded. Please change predicate or reset seed",
     "output_type": "error",
     "traceback": [
      "\u001b[0;31m---------------------------------------------------------------------------\u001b[0m",
      "\u001b[0;31mAssertionError\u001b[0m                            Traceback (most recent call last)",
      "\u001b[0;32m<ipython-input-284-d77a128fe89e>\u001b[0m in \u001b[0;36m<module>\u001b[0;34m\u001b[0m\n\u001b[0;32m----> 1\u001b[0;31m \u001b[0mM\u001b[0m\u001b[0;34m(\u001b[0m\u001b[0;34m)\u001b[0m\u001b[0;34m\u001b[0m\u001b[0;34m\u001b[0m\u001b[0m\n\u001b[0m",
      "\u001b[0;32m<ipython-input-282-67dcb83c8923>\u001b[0m in \u001b[0;36m__call__\u001b[0;34m(self)\u001b[0m\n\u001b[1;32m     23\u001b[0m \u001b[0;34m\u001b[0m\u001b[0m\n\u001b[1;32m     24\u001b[0m     \u001b[0;32mdef\u001b[0m \u001b[0m__call__\u001b[0m\u001b[0;34m(\u001b[0m\u001b[0mself\u001b[0m\u001b[0;34m)\u001b[0m\u001b[0;34m:\u001b[0m\u001b[0;34m\u001b[0m\u001b[0;34m\u001b[0m\u001b[0m\n\u001b[0;32m---> 25\u001b[0;31m         \u001b[0;32mreturn\u001b[0m \u001b[0mself\u001b[0m\u001b[0;34m.\u001b[0m\u001b[0mgen\u001b[0m\u001b[0;34m(\u001b[0m\u001b[0;34m)\u001b[0m\u001b[0;34m\u001b[0m\u001b[0;34m\u001b[0m\u001b[0m\n\u001b[0m\u001b[1;32m     26\u001b[0m \u001b[0;34m\u001b[0m\u001b[0m\n\u001b[1;32m     27\u001b[0m     \u001b[0;32mdef\u001b[0m \u001b[0mFirstElementaryForm\u001b[0m\u001b[0;34m(\u001b[0m\u001b[0mself\u001b[0m\u001b[0;34m,\u001b[0m \u001b[0mindex_random\u001b[0m\u001b[0;34m,\u001b[0m \u001b[0msize\u001b[0m\u001b[0;34m,\u001b[0m \u001b[0mflags\u001b[0m\u001b[0;34m)\u001b[0m\u001b[0;34m:\u001b[0m\u001b[0;34m\u001b[0m\u001b[0;34m\u001b[0m\u001b[0m\n",
      "\u001b[0;32m<ipython-input-282-67dcb83c8923>\u001b[0m in \u001b[0;36mFirstElementaryForm\u001b[0;34m(self, index_random, size, flags)\u001b[0m\n\u001b[1;32m     40\u001b[0m \u001b[0;34m\u001b[0m\u001b[0m\n\u001b[1;32m     41\u001b[0m         \u001b[0;32massert\u001b[0m \u001b[0mrow\u001b[0m \u001b[0;34m!=\u001b[0m \u001b[0mcolumn\u001b[0m\u001b[0;34m,\u001b[0m \u001b[0;34m'Bad indecies'\u001b[0m\u001b[0;34m\u001b[0m\u001b[0;34m\u001b[0m\u001b[0m\n\u001b[0;32m---> 42\u001b[0;31m         \u001b[0mvalue\u001b[0m\u001b[0;34m=\u001b[0m\u001b[0mflags\u001b[0m\u001b[0;34m.\u001b[0m\u001b[0mget\u001b[0m\u001b[0;34m(\u001b[0m\u001b[0;34m\"value\"\u001b[0m\u001b[0;34m,\u001b[0m \u001b[0mself\u001b[0m\u001b[0;34m.\u001b[0m\u001b[0mrand\u001b[0m\u001b[0;34m(\u001b[0m\u001b[0;34m)\u001b[0m\u001b[0;34m)\u001b[0m\u001b[0;34m\u001b[0m\u001b[0;34m\u001b[0m\u001b[0m\n\u001b[0m\u001b[1;32m     43\u001b[0m         \u001b[0;32mreturn\u001b[0m \u001b[0mgen_FirstElementaryM\u001b[0m\u001b[0;34m(\u001b[0m\u001b[0msize\u001b[0m\u001b[0;34m,\u001b[0m \u001b[0mvalue\u001b[0m\u001b[0;34m,\u001b[0m \u001b[0mrow\u001b[0m\u001b[0;34m,\u001b[0m \u001b[0mcolumn\u001b[0m\u001b[0;34m)\u001b[0m\u001b[0;34m\u001b[0m\u001b[0;34m\u001b[0m\u001b[0m\n",
      "\u001b[0;32m<ipython-input-274-2b294d849eb6>\u001b[0m in \u001b[0;36m__call__\u001b[0;34m(self)\u001b[0m\n\u001b[1;32m     57\u001b[0m                     \u001b[0mresult\u001b[0m \u001b[0;34m=\u001b[0m \u001b[0mself\u001b[0m\u001b[0;34m.\u001b[0m\u001b[0mrand\u001b[0m\u001b[0;34m(\u001b[0m\u001b[0;34m)\u001b[0m\u001b[0;34m\u001b[0m\u001b[0;34m\u001b[0m\u001b[0m\n\u001b[1;32m     58\u001b[0m                     \u001b[0mcount\u001b[0m \u001b[0;34m+=\u001b[0m \u001b[0;36m1\u001b[0m\u001b[0;34m\u001b[0m\u001b[0;34m\u001b[0m\u001b[0m\n\u001b[0;32m---> 59\u001b[0;31m                     \u001b[0;32massert\u001b[0m \u001b[0mcount\u001b[0m \u001b[0;34m<\u001b[0m \u001b[0;36m10\u001b[0m\u001b[0;34m**\u001b[0m\u001b[0;36m4\u001b[0m\u001b[0;34m,\u001b[0m \u001b[0;34m'Time exceeded. Please change predicate or reset seed'\u001b[0m\u001b[0;34m\u001b[0m\u001b[0;34m\u001b[0m\u001b[0m\n\u001b[0m\u001b[1;32m     60\u001b[0m                 \u001b[0;32mreturn\u001b[0m \u001b[0mresult\u001b[0m\u001b[0;34m\u001b[0m\u001b[0;34m\u001b[0m\u001b[0m\n\u001b[1;32m     61\u001b[0m \u001b[0;34m\u001b[0m\u001b[0m\n",
      "\u001b[0;31mAssertionError\u001b[0m: Time exceeded. Please change predicate or reset seed"
     ]
    }
   ],
   "source": [
    "M()"
   ]
  },
  {
   "cell_type": "markdown",
   "metadata": {},
   "source": [
    "We do not allow zeros by default, but default random always return zero which cause problems with getting value"
   ]
  },
  {
   "cell_type": "code",
   "execution_count": 287,
   "metadata": {},
   "outputs": [],
   "source": [
    "MatrixForm.reset_default_random(0, 2)"
   ]
  },
  {
   "cell_type": "code",
   "execution_count": 288,
   "metadata": {},
   "outputs": [],
   "source": [
    "M = MatrixForm(form=\"FirstElementary\", size=3,  row=1, column=2, value=10)"
   ]
  },
  {
   "cell_type": "code",
   "execution_count": 289,
   "metadata": {},
   "outputs": [
    {
     "data": {
      "text/latex": [
       "$\\displaystyle \\left[\\begin{matrix}1 & 0 & 0\\\\0 & 1 & 10\\\\0 & 0 & 1\\end{matrix}\\right]$"
      ],
      "text/plain": [
       "Matrix([\n",
       "[1, 0,  0],\n",
       "[0, 1, 10],\n",
       "[0, 0,  1]])"
      ]
     },
     "execution_count": 289,
     "metadata": {},
     "output_type": "execute_result"
    }
   ],
   "source": [
    "M()"
   ]
  },
  {
   "cell_type": "code",
   "execution_count": null,
   "metadata": {},
   "outputs": [],
   "source": []
  }
 ],
 "metadata": {
  "kernelspec": {
   "display_name": "Python 3",
   "language": "python",
   "name": "python3"
  },
  "language_info": {
   "codemirror_mode": {
    "name": "ipython",
    "version": 3
   },
   "file_extension": ".py",
   "mimetype": "text/x-python",
   "name": "python",
   "nbconvert_exporter": "python",
   "pygments_lexer": "ipython3",
   "version": "3.8.3"
  }
 },
 "nbformat": 4,
 "nbformat_minor": 4
}
