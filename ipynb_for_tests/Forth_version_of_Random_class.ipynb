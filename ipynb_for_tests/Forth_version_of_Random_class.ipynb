{
 "cells": [
  {
   "cell_type": "markdown",
   "metadata": {},
   "source": [
    "# Version 4"
   ]
  },
  {
   "cell_type": "code",
   "execution_count": 117,
   "metadata": {},
   "outputs": [],
   "source": [
    "import numpy as np\n",
    "import sympy as sp\n",
    "from inspect import signature \n",
    "from functools import partial"
   ]
  },
  {
   "cell_type": "code",
   "execution_count": 118,
   "metadata": {},
   "outputs": [],
   "source": [
    "class Sequencer:\n",
    "    __seed = 0\n",
    "    \n",
    "    @classmethod\n",
    "    def reset_seed(cls, new_seed):\n",
    "        assert new_seed >= 0, 'Seed must be > 0'\n",
    "        cls.__seed = new_seed\n",
    "      \n",
    "    @classmethod\n",
    "    def get_gen(cls):\n",
    "        return np.random.default_rng(cls.__seed)\n",
    "    "
   ]
  },
  {
   "cell_type": "code",
   "execution_count": 119,
   "metadata": {},
   "outputs": [],
   "source": [
    "class IntegerRandom:\n",
    "    \n",
    "    def __init__(self, min_value, max_value):\n",
    "        assert min_value <= max_value, 'Bad boundaries'\n",
    "        self.min_value = min_value\n",
    "        self.max_value = max_value\n",
    "        self.generator = Sequencer.get_gen()\n",
    "       \n",
    "    def __call__(self):\n",
    "        return self.generator.integers(self.min_value, self.max_value + 1)"
   ]
  },
  {
   "cell_type": "code",
   "execution_count": 120,
   "metadata": {},
   "outputs": [],
   "source": [
    "class SignRandom:\n",
    "    \n",
    "    def __init__(self):\n",
    "        self.generator = Sequancer.get_gen()\n",
    "       \n",
    "    def __call__(self):\n",
    "        return 1 if self.generator.integers(0, 2) else -1"
   ]
  },
  {
   "cell_type": "code",
   "execution_count": 121,
   "metadata": {},
   "outputs": [],
   "source": [
    "class Generator:\n",
    "    __steps_until_break = 10**4\n",
    "    \n",
    "    @classmethod\n",
    "    def get_steps_until_break(cls):\n",
    "        return cls.__steps_until_break\n",
    "    \n",
    "    @classmethod\n",
    "    def reset_steps_until_break(cls, new_steps_until_break_value):\n",
    "        assert new_steps_until_break_value > 0, 'Steps until break must be positive'\n",
    "        cls.__steps_until_break = new_steps_until_break_value\n",
    "   \n",
    "    def __init__(self, generator):\n",
    "        assert callable(generator), 'Generator is not callable'\n",
    "        self.generator = generator\n",
    "        self.steps_until_break = Generator.__steps_until_break\n",
    "           \n",
    "    def __call__(self):\n",
    "        return self.generator()\n",
    "    \n",
    "    def Filter(self, predicate):\n",
    "        assert callable(predicate), 'Predicate is not a function'\n",
    "        assert len(signature(predicate).parameters) == 1, 'Predicate has too many arguments'\n",
    "        assert isinstance(predicate(0), bool), 'Predicate does not return bool'\n",
    "    \n",
    "        class FilteredGenerator:\n",
    "            def __init__(self, generator, predicate, steps_until_break):\n",
    "                assert callable(generator), 'Generator is not callable'\n",
    "                assert callable(predicate), 'Predicate is not a function'\n",
    "                assert len(signature(predicate).parameters) == 1, 'Predicate has too many arguments'\n",
    "                assert isinstance(predicate(0), bool), 'Predicate does not return bool'\n",
    "        \n",
    "                self.generator = generator\n",
    "                self.predicate = predicate\n",
    "                self.steps_until_break = steps_until_break\n",
    "            \n",
    "            def __call__(self):\n",
    "                result = self.generator()\n",
    "                count = 0\n",
    "                while not predicate(result):\n",
    "                    result = self.generator()\n",
    "                    count += 1\n",
    "                    assert count < self.steps_until_break, 'Time exceeded. Please change predicate or reset seed'                    \n",
    "                return result\n",
    "          \n",
    "        self.generator = FilteredGenerator(self.generator, predicate, self.steps_until_break)\n",
    "        return self\n",
    "    \n",
    "    def BanZero(self):\n",
    "        self.Filter(lambda x: x != 0)\n",
    "        return self\n",
    "    \n",
    "    def Extend(self, values, length):\n",
    "        assert length >= 0, 'Length can not be negative'\n",
    "        assert len(values) <= length, 'Too small length'\n",
    "        count = 0\n",
    "        while len(values) != length:\n",
    "            value = self()\n",
    "            if not value in values:\n",
    "                values.append(value)\n",
    "            count += 1\n",
    "            assert count < self.steps_until_break, 'Time exceeded. Please change predicate or reset seed'\n",
    "\n",
    "        return values\n",
    "    \n",
    "    def Sequence(self, length):\n",
    "        assert length >= 0, \"Length can not be negative\"\n",
    "        return self.Extend([], length)\n",
    "    "
   ]
  },
  {
   "cell_type": "markdown",
   "metadata": {},
   "source": [
    "Special name for most usable:"
   ]
  },
  {
   "cell_type": "code",
   "execution_count": 122,
   "metadata": {},
   "outputs": [],
   "source": [
    "def Random(min_value, max_value):\n",
    "    return Generator(IntegerRandom(min_value, max_value))"
   ]
  },
  {
   "cell_type": "markdown",
   "metadata": {},
   "source": [
    "Include some generator to test"
   ]
  },
  {
   "cell_type": "code",
   "execution_count": 123,
   "metadata": {},
   "outputs": [],
   "source": [
    "def gen_FirstElementaryM(size, value, row, column):\n",
    "    result = sp.eye(size)\n",
    "    result[row, column] = value\n",
    "    return result"
   ]
  },
  {
   "cell_type": "code",
   "execution_count": 124,
   "metadata": {},
   "outputs": [],
   "source": [
    "class MatrixForm:\n",
    "    __default_Random = Random(0, 1)\n",
    "\n",
    "    @classmethod\n",
    "    def reset_default_random(cls, min_value, max_value):\n",
    "        cls.__default_Random = Random(min_value, max_value)\n",
    "    \n",
    "    def __init__(self, **flags):\n",
    "        self.form = flags[\"form\"]\n",
    "        if flags.get(\"allow_zeros\", False) is False:\n",
    "            self.rand = flags.get(\"random\", MatrixForm.__default_Random)\n",
    "            self.rand.Filter(lambda x: x != 0)\n",
    "        else:\n",
    "            self.rand = flags.get(\"random\", MatrixForm.__default_Random)\n",
    "    \n",
    "        # make generator with right form\n",
    "        if (self.form == \"FirstElementary\"):\n",
    "            assert \"size\" in flags, 'Size was not given'\n",
    "            size = flags[\"size\"]\n",
    "            index_random = Random(0, size - 1)\n",
    "            self.gen = partial(self.FirstElementaryForm, index_random, size, flags)\n",
    "            \n",
    "    def __call__(self):\n",
    "        return self.gen()\n",
    "     \n",
    "    # Functions to make form\n",
    "    def FirstElementaryForm(self, index_random, size, flags):\n",
    "        row = flags.get(\"row\", -1)\n",
    "        column = flags.get(\"column\", -1)\n",
    "        if (row == -1):\n",
    "            if (column == -1):\n",
    "                row, column = index_random.Extend([], 2)\n",
    "            else:\n",
    "                column, row = index_random.Extend([column], 2)\n",
    "        if (column == -1):\n",
    "            if (row == -1):\n",
    "                row, column = index_random.Extend([], 2)\n",
    "            else:\n",
    "                row, column = index_random.Extend([row], 2)\n",
    "        \n",
    "        assert row != column, 'Bad indecies'\n",
    "        value = flags[\"value\"] if \"value\" in flags else self.rand()\n",
    "        return gen_FirstElementaryM(size, value, row, column)\n",
    "    \n",
    "    # Help functions"
   ]
  },
  {
   "cell_type": "markdown",
   "metadata": {},
   "source": [
    "# Tests"
   ]
  },
  {
   "cell_type": "code",
   "execution_count": 125,
   "metadata": {},
   "outputs": [],
   "source": [
    "Sequencer.reset_seed(2)"
   ]
  },
  {
   "cell_type": "code",
   "execution_count": 126,
   "metadata": {},
   "outputs": [
    {
     "name": "stdout",
     "output_type": "stream",
     "text": [
      "2\n"
     ]
    }
   ],
   "source": [
    "print(Sequencer._Sequencer__seed)"
   ]
  },
  {
   "cell_type": "code",
   "execution_count": 127,
   "metadata": {},
   "outputs": [],
   "source": [
    "Generator.reset_steps_until_break(10**5)"
   ]
  },
  {
   "cell_type": "code",
   "execution_count": 128,
   "metadata": {},
   "outputs": [
    {
     "name": "stdout",
     "output_type": "stream",
     "text": [
      "100000\n"
     ]
    }
   ],
   "source": [
    "print(Generator._Generator__steps_until_break)"
   ]
  },
  {
   "cell_type": "code",
   "execution_count": 129,
   "metadata": {},
   "outputs": [],
   "source": [
    "R = Random(-5, 5)"
   ]
  },
  {
   "cell_type": "code",
   "execution_count": 130,
   "metadata": {},
   "outputs": [],
   "source": [
    "M = MatrixForm(form=\"FirstElementary\", size=3, random = R, allow_zeros=False)"
   ]
  },
  {
   "cell_type": "code",
   "execution_count": 131,
   "metadata": {},
   "outputs": [
    {
     "data": {
      "text/latex": [
       "$\\displaystyle \\left[\\begin{matrix}1 & 0 & 0\\\\0 & 1 & 0\\\\4 & 0 & 1\\end{matrix}\\right]$"
      ],
      "text/plain": [
       "Matrix([\n",
       "[1, 0, 0],\n",
       "[0, 1, 0],\n",
       "[4, 0, 1]])"
      ]
     },
     "execution_count": 131,
     "metadata": {},
     "output_type": "execute_result"
    }
   ],
   "source": [
    "M()"
   ]
  },
  {
   "cell_type": "code",
   "execution_count": 132,
   "metadata": {},
   "outputs": [
    {
     "data": {
      "text/latex": [
       "$\\displaystyle \\left[\\begin{matrix}1 & -3 & 0\\\\0 & 1 & 0\\\\0 & 0 & 1\\end{matrix}\\right]$"
      ],
      "text/plain": [
       "Matrix([\n",
       "[1, -3, 0],\n",
       "[0,  1, 0],\n",
       "[0,  0, 1]])"
      ]
     },
     "execution_count": 132,
     "metadata": {},
     "output_type": "execute_result"
    }
   ],
   "source": [
    "M()"
   ]
  },
  {
   "cell_type": "code",
   "execution_count": 133,
   "metadata": {},
   "outputs": [],
   "source": [
    "R = Random(-1, 1)"
   ]
  },
  {
   "cell_type": "code",
   "execution_count": 134,
   "metadata": {},
   "outputs": [],
   "source": [
    "M = MatrixForm(form=\"FirstElementary\", size=3, random=R, allow_zeros=True)"
   ]
  },
  {
   "cell_type": "code",
   "execution_count": 139,
   "metadata": {},
   "outputs": [
    {
     "data": {
      "text/latex": [
       "$\\displaystyle \\left[\\begin{matrix}1 & 0 & 0\\\\0 & 1 & 0\\\\0 & 0 & 1\\end{matrix}\\right]$"
      ],
      "text/plain": [
       "Matrix([\n",
       "[1, 0, 0],\n",
       "[0, 1, 0],\n",
       "[0, 0, 1]])"
      ]
     },
     "execution_count": 139,
     "metadata": {},
     "output_type": "execute_result"
    }
   ],
   "source": [
    "M()"
   ]
  },
  {
   "cell_type": "code",
   "execution_count": 140,
   "metadata": {},
   "outputs": [
    {
     "data": {
      "text/latex": [
       "$\\displaystyle \\left[\\begin{matrix}1 & 0 & 0\\\\0 & 1 & 0\\\\1 & 0 & 1\\end{matrix}\\right]$"
      ],
      "text/plain": [
       "Matrix([\n",
       "[1, 0, 0],\n",
       "[0, 1, 0],\n",
       "[1, 0, 1]])"
      ]
     },
     "execution_count": 140,
     "metadata": {},
     "output_type": "execute_result"
    }
   ],
   "source": [
    "M()"
   ]
  },
  {
   "cell_type": "code",
   "execution_count": 141,
   "metadata": {},
   "outputs": [],
   "source": [
    "M = MatrixForm(form=\"FirstElementary\", size=3, random=R, allow_zeros=False)"
   ]
  },
  {
   "cell_type": "code",
   "execution_count": 142,
   "metadata": {},
   "outputs": [
    {
     "data": {
      "text/latex": [
       "$\\displaystyle \\left[\\begin{matrix}1 & 0 & 0\\\\0 & 1 & 0\\\\-1 & 0 & 1\\end{matrix}\\right]$"
      ],
      "text/plain": [
       "Matrix([\n",
       "[ 1, 0, 0],\n",
       "[ 0, 1, 0],\n",
       "[-1, 0, 1]])"
      ]
     },
     "execution_count": 142,
     "metadata": {},
     "output_type": "execute_result"
    }
   ],
   "source": [
    "M()"
   ]
  },
  {
   "cell_type": "code",
   "execution_count": 143,
   "metadata": {},
   "outputs": [],
   "source": [
    "R = Random(-5, 5)"
   ]
  },
  {
   "cell_type": "markdown",
   "metadata": {},
   "source": [
    "Now we can reduce the amount of random values"
   ]
  },
  {
   "cell_type": "markdown",
   "metadata": {},
   "source": [
    "For example, we can decide which row we want"
   ]
  },
  {
   "cell_type": "code",
   "execution_count": 144,
   "metadata": {},
   "outputs": [],
   "source": [
    "M = MatrixForm(form=\"FirstElementary\", size=3, random=R, allow_zeros=True, row=1)"
   ]
  },
  {
   "cell_type": "code",
   "execution_count": 146,
   "metadata": {},
   "outputs": [
    {
     "data": {
      "text/latex": [
       "$\\displaystyle \\left[\\begin{matrix}1 & 0 & 0\\\\-3 & 1 & 0\\\\0 & 0 & 1\\end{matrix}\\right]$"
      ],
      "text/plain": [
       "Matrix([\n",
       "[ 1, 0, 0],\n",
       "[-3, 1, 0],\n",
       "[ 0, 0, 1]])"
      ]
     },
     "execution_count": 146,
     "metadata": {},
     "output_type": "execute_result"
    }
   ],
   "source": [
    "M()"
   ]
  },
  {
   "cell_type": "code",
   "execution_count": 149,
   "metadata": {},
   "outputs": [
    {
     "data": {
      "text/latex": [
       "$\\displaystyle \\left[\\begin{matrix}1 & 0 & 0\\\\0 & 1 & -1\\\\0 & 0 & 1\\end{matrix}\\right]$"
      ],
      "text/plain": [
       "Matrix([\n",
       "[1, 0,  0],\n",
       "[0, 1, -1],\n",
       "[0, 0,  1]])"
      ]
     },
     "execution_count": 149,
     "metadata": {},
     "output_type": "execute_result"
    }
   ],
   "source": [
    "M()"
   ]
  },
  {
   "cell_type": "markdown",
   "metadata": {},
   "source": [
    "Or we can decide which column and value, but make random row"
   ]
  },
  {
   "cell_type": "code",
   "execution_count": 150,
   "metadata": {},
   "outputs": [],
   "source": [
    "M = MatrixForm(form=\"FirstElementary\", size=3, random=R, allow_zeros=True, column=2, value=6)"
   ]
  },
  {
   "cell_type": "code",
   "execution_count": 151,
   "metadata": {},
   "outputs": [
    {
     "data": {
      "text/latex": [
       "$\\displaystyle \\left[\\begin{matrix}1 & 0 & 6\\\\0 & 1 & 0\\\\0 & 0 & 1\\end{matrix}\\right]$"
      ],
      "text/plain": [
       "Matrix([\n",
       "[1, 0, 6],\n",
       "[0, 1, 0],\n",
       "[0, 0, 1]])"
      ]
     },
     "execution_count": 151,
     "metadata": {},
     "output_type": "execute_result"
    }
   ],
   "source": [
    "M()"
   ]
  },
  {
   "cell_type": "code",
   "execution_count": 154,
   "metadata": {},
   "outputs": [
    {
     "data": {
      "text/latex": [
       "$\\displaystyle \\left[\\begin{matrix}1 & 0 & 0\\\\0 & 1 & 6\\\\0 & 0 & 1\\end{matrix}\\right]$"
      ],
      "text/plain": [
       "Matrix([\n",
       "[1, 0, 0],\n",
       "[0, 1, 6],\n",
       "[0, 0, 1]])"
      ]
     },
     "execution_count": 154,
     "metadata": {},
     "output_type": "execute_result"
    }
   ],
   "source": [
    "M()"
   ]
  },
  {
   "cell_type": "markdown",
   "metadata": {},
   "source": [
    "As we can see, we do not need to allow zeros, because value is written "
   ]
  },
  {
   "cell_type": "markdown",
   "metadata": {},
   "source": [
    "Or we can write everything by hand (so we even do not need to write random=R)"
   ]
  },
  {
   "cell_type": "code",
   "execution_count": 155,
   "metadata": {},
   "outputs": [],
   "source": [
    "M = MatrixForm(form=\"FirstElementary\", size=3,  row=1, column=2, value=10)"
   ]
  },
  {
   "cell_type": "code",
   "execution_count": 156,
   "metadata": {},
   "outputs": [
    {
     "data": {
      "text/latex": [
       "$\\displaystyle \\left[\\begin{matrix}1 & 0 & 0\\\\0 & 1 & 10\\\\0 & 0 & 1\\end{matrix}\\right]$"
      ],
      "text/plain": [
       "Matrix([\n",
       "[1, 0,  0],\n",
       "[0, 1, 10],\n",
       "[0, 0,  1]])"
      ]
     },
     "execution_count": 156,
     "metadata": {},
     "output_type": "execute_result"
    }
   ],
   "source": [
    "M()"
   ]
  },
  {
   "cell_type": "code",
   "execution_count": 157,
   "metadata": {},
   "outputs": [],
   "source": [
    "MatrixForm.reset_default_random(0, 2)"
   ]
  },
  {
   "cell_type": "code",
   "execution_count": 158,
   "metadata": {},
   "outputs": [],
   "source": [
    "M = MatrixForm(form=\"FirstElementary\", size=3,  row=1, column=2)"
   ]
  },
  {
   "cell_type": "code",
   "execution_count": 165,
   "metadata": {},
   "outputs": [
    {
     "data": {
      "text/latex": [
       "$\\displaystyle \\left[\\begin{matrix}1 & 0 & 0\\\\0 & 1 & 2\\\\0 & 0 & 1\\end{matrix}\\right]$"
      ],
      "text/plain": [
       "Matrix([\n",
       "[1, 0, 0],\n",
       "[0, 1, 2],\n",
       "[0, 0, 1]])"
      ]
     },
     "execution_count": 165,
     "metadata": {},
     "output_type": "execute_result"
    }
   ],
   "source": [
    "M()"
   ]
  },
  {
   "cell_type": "code",
   "execution_count": 169,
   "metadata": {},
   "outputs": [
    {
     "data": {
      "text/latex": [
       "$\\displaystyle \\left[\\begin{matrix}1 & 0 & 0\\\\0 & 1 & 1\\\\0 & 0 & 1\\end{matrix}\\right]$"
      ],
      "text/plain": [
       "Matrix([\n",
       "[1, 0, 0],\n",
       "[0, 1, 1],\n",
       "[0, 0, 1]])"
      ]
     },
     "execution_count": 169,
     "metadata": {},
     "output_type": "execute_result"
    }
   ],
   "source": [
    "M()"
   ]
  },
  {
   "cell_type": "code",
   "execution_count": null,
   "metadata": {},
   "outputs": [],
   "source": []
  }
 ],
 "metadata": {
  "kernelspec": {
   "display_name": "Python 3",
   "language": "python",
   "name": "python3"
  },
  "language_info": {
   "codemirror_mode": {
    "name": "ipython",
    "version": 3
   },
   "file_extension": ".py",
   "mimetype": "text/x-python",
   "name": "python",
   "nbconvert_exporter": "python",
   "pygments_lexer": "ipython3",
   "version": "3.8.5"
  }
 },
 "nbformat": 4,
 "nbformat_minor": 4
}
