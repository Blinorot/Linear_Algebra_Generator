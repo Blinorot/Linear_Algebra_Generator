{
 "cells": [
  {
   "cell_type": "code",
   "execution_count": 1,
   "metadata": {},
   "outputs": [],
   "source": [
    "import numpy as np\n",
    "import sympy as sp\n"
   ]
  },
  {
   "cell_type": "code",
   "execution_count": 8,
   "metadata": {},
   "outputs": [],
   "source": [
    "class Random(object):\n",
    "    def __init__(self, seed, max_value, first_value, second_value):\n",
    "        np.random.seed(seed)\n",
    "        self.max_value = max_value\n",
    "        self.first_value = first_value\n",
    "        self.second_value = second_value\n",
    "\n",
    "    def Bool(self):\n",
    "        return np.random.randint(2)\n",
    "\n",
    "    def Sign(self):\n",
    "        return -1 if np.random.randint(2) == 0 else 1\n",
    "\n",
    "    def BoundedWZ(self):\n",
    "        return self.Sign() * np.random.randint(self.max_value)\n",
    "\n",
    "    def BoundedNZ(self):\n",
    "        result = self.BoundedWZ(self.max_value)\n",
    "        while result == 0:\n",
    "            result = self.BoundedWZ(self.max_value)\n",
    "        return result\n",
    "\n",
    "    def BoundedNonEqualPair(self):\n",
    "        first_elem = np.random.randint(first_value)\n",
    "        second_elem = np.random.randint(second_value)\n",
    "        while second_elem == first_elem:\n",
    "            second_elem = np.random.randint(second_value)\n",
    "        return first_elem, second_elem\n",
    "\n",
    "    def MatrixWZ(self, row, column):\n",
    "        result = sp.Matrix(row, column, lambda i, j: self.BoundedWZ())\n",
    "        return result\n",
    "\n",
    "    def MatrixNZ(self, row, column):\n",
    "        result = sp.Matrix(row, column, lambda i, j: self.BoundedNZ())\n",
    "        return result\n"
   ]
  },
  {
   "cell_type": "code",
   "execution_count": 24,
   "metadata": {},
   "outputs": [],
   "source": [
    "def gen_UniUpperWZM(size, help_func):\n",
    "    result = sp.Matrix(size, size, help_func)\n",
    "    return result"
   ]
  },
  {
   "cell_type": "code",
   "execution_count": 29,
   "metadata": {},
   "outputs": [],
   "source": [
    "\n",
    "class MatrixForm(object):\n",
    "    def __init__(self, **flags):\n",
    "        self.form = flags[\"form\"]\n",
    "        self.random = flags[\"random\"]\n",
    "        if (self.form == \"UniUpperWZ\"):\n",
    "            self.data = gen_UniUpperWZM(size=flags[\"size\"], help_func=self.__UniUpperWZFunc__)\n",
    "\n",
    "    # helpers\n",
    "\n",
    "    def __UniUpperWZFunc__(self, row, column):\n",
    "        if row == column:\n",
    "            return 1\n",
    "        elif row < column:\n",
    "            return self.random.BoundedWZ()\n",
    "        else:\n",
    "            return 0\n"
   ]
  },
  {
   "cell_type": "code",
   "execution_count": 30,
   "metadata": {},
   "outputs": [],
   "source": [
    "R = Random(0, 5, 5, 5)"
   ]
  },
  {
   "cell_type": "code",
   "execution_count": 31,
   "metadata": {},
   "outputs": [
    {
     "data": {
      "text/plain": [
       "0"
      ]
     },
     "execution_count": 31,
     "metadata": {},
     "output_type": "execute_result"
    }
   ],
   "source": [
    "R.BoundedWZ()"
   ]
  },
  {
   "cell_type": "code",
   "execution_count": 32,
   "metadata": {},
   "outputs": [],
   "source": [
    "M = MatrixForm(form=\"UniUpperWZ\", random= R, size = 5)"
   ]
  },
  {
   "cell_type": "code",
   "execution_count": 38,
   "metadata": {},
   "outputs": [
    {
     "data": {
      "text/latex": [
       "$\\displaystyle \\left[\\begin{matrix}1 & 3 & 1 & 2 & 0\\\\0 & 1 & -4 & -1 & 0\\\\0 & 0 & 1 & 1 & 0\\\\0 & 0 & 0 & 1 & 4\\\\0 & 0 & 0 & 0 & 1\\end{matrix}\\right]$"
      ],
      "text/plain": [
       "Matrix([\n",
       "[1, 3,  1,  2, 0],\n",
       "[0, 1, -4, -1, 0],\n",
       "[0, 0,  1,  1, 0],\n",
       "[0, 0,  0,  1, 4],\n",
       "[0, 0,  0,  0, 1]])"
      ]
     },
     "execution_count": 38,
     "metadata": {},
     "output_type": "execute_result"
    }
   ],
   "source": [
    "M.data"
   ]
  },
  {
   "cell_type": "code",
   "execution_count": null,
   "metadata": {},
   "outputs": [],
   "source": []
  }
 ],
 "metadata": {
  "kernelspec": {
   "display_name": "Python 3",
   "language": "python",
   "name": "python3"
  },
  "language_info": {
   "codemirror_mode": {
    "name": "ipython",
    "version": 3
   },
   "file_extension": ".py",
   "mimetype": "text/x-python",
   "name": "python",
   "nbconvert_exporter": "python",
   "pygments_lexer": "ipython3",
   "version": "3.8.3"
  }
 },
 "nbformat": 4,
 "nbformat_minor": 4
}
